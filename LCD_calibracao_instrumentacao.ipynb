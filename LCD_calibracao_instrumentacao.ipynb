{
  "nbformat": 4,
  "nbformat_minor": 0,
  "metadata": {
    "colab": {
      "name": "LCD_calibracao_instrumentacao.ipynb",
      "provenance": [],
      "collapsed_sections": [],
      "authorship_tag": "ABX9TyPEIi7oyz3/lE5yQIuOVXBi",
      "include_colab_link": true
    },
    "kernelspec": {
      "name": "python3",
      "display_name": "Python 3"
    },
    "language_info": {
      "name": "python"
    }
  },
  "cells": [
    {
      "cell_type": "markdown",
      "metadata": {
        "id": "view-in-github",
        "colab_type": "text"
      },
      "source": [
        "<a href=\"https://colab.research.google.com/github/igor-stefan/instrumentacao_EE2022/blob/main/LCD_calibracao_instrumentacao.ipynb\" target=\"_parent\"><img src=\"https://colab.research.google.com/assets/colab-badge.svg\" alt=\"Open In Colab\"/></a>"
      ]
    },
    {
      "cell_type": "code",
      "execution_count": null,
      "metadata": {
        "colab": {
          "base_uri": "https://localhost:8080/"
        },
        "id": "NjTCXag-SKEI",
        "outputId": "b77a42bc-c0d0-40ba-f386-c743f2e32f08"
      },
      "outputs": [
        {
          "output_type": "stream",
          "name": "stdout",
          "text": [
            "\u001b[1m\n",
            "Equipamento totalmente aprovado para erros de medida a partir de 2%\n",
            "\u001b[0m\n"
          ]
        }
      ],
      "source": [
        "from math import sqrt\n",
        "\n",
        "#faixa de 1 a 3A\n",
        "#amp = [, 2., 2.8] #valores medidos pelo amperimetro chines\n",
        "#custom = [1.19, 2.02, 2.74] #valores medidos pelo amp. custom\n",
        "\n",
        "#faixa de 3 a 5A\n",
        "#amp = [3.2, 4., 4.8] #valores medidos pelo amperimetro chines\n",
        "#custom = [3.23, 4.09, 4.9] #valores medidos pelo amp. custom\n",
        "\n",
        "#faixa de 0 a 5A\n",
        "amp = [.5, 2.5, 4.67]\n",
        "custom = [.47, 2.55, 4.62]\n",
        "\n",
        "log_resultados = 0 #se é para mostrar ou nao os valores calculados\n",
        "\n",
        "for x in range(41): #para testar erro de medicao de 0 a 20%\n",
        "    if log_resultados:\n",
        "      print(\"\\n--------------------------------\")\n",
        "      print('Testando Erro de medicao = ', x, '%:', sep='')\n",
        "      print(\"--------------------------------\")\n",
        "\n",
        "    aprovado = 0\n",
        "    for medida in range(len(amp)):\n",
        "        deltaC = res_custom = .01 #resolucao do equipamento custom = deltaC da formula de calibracao\n",
        "        u_deltaC = deltaC / (2 * sqrt(3)) #u(deltaC) da formula de incerteza da calibracao é metade da resolucao dividido por sqrt(3)\n",
        "\n",
        "        res_amp = .01 #resolucao do equipamento padrao, o amperimetro chinês\n",
        "        deltaP = (2./100.) * amp[medida] + 5 * res_amp # incerteza da medicao, fornecido pelo manual\n",
        "        u_deltaP = deltaP / sqrt(3) #incerteza equipamento padrao tipo B\n",
        "\n",
        "        uc = sqrt(u_deltaP ** 2 + u_deltaC ** 2) #incerteza combinada\n",
        "        uexp = uc * 1.65 #incerteza expandida!\n",
        "\n",
        "        erro_max = (x / 100.) * custom[medida] + 10 * res_custom #precisao do equipamento a ser calibrado\n",
        "        erro = abs(amp[medida] - custom[medida]) #erro entre o valor medido pelo EC (custom) e pelo EP (chinês)\n",
        "        duvida_min = erro_max - uexp #limite inferior da zona de duvida\n",
        "        duvida_max = erro_max + uexp #limite superior da zona de duvida\n",
        "        if log_resultados:\n",
        "          print('erro =', erro)\n",
        "          print('uexp =', uexp)\n",
        "          print('erro_max =', erro_max)\n",
        "          print('inc_min =', duvida_min)\n",
        "          print('inc_max =', duvida_max)\n",
        "          print('RESULTADO p/ medida ', medida + 1, ': ',end='',sep='')\n",
        "        if erro < duvida_min:\n",
        "            if log_resultados:\n",
        "              print(\"APROVADO\")\n",
        "            aprovado += 1\n",
        "        elif erro > duvida_min and erro < duvida_max:\n",
        "            if log_resultados:\n",
        "              print(\"ZONA DE DUVIDA\")\n",
        "        else:\n",
        "          if log_resultados:\n",
        "            print(\"REPROVADO\")\n",
        "        if log_resultados:\n",
        "          print(\"--------------------------------------\\n\")\n",
        "    if aprovado == 3:\n",
        "        print('\\033[1m','\\nEquipamento totalmente aprovado para erros de medida a partir de ', x ,'%\\n','\\033[0m', sep='')\n",
        "        break"
      ]
    }
  ]
}